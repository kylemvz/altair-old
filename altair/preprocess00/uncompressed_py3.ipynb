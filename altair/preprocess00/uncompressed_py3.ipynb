{
 "cells": [
  {
   "cell_type": "code",
   "execution_count": 1,
   "metadata": {
    "collapsed": true
   },
   "outputs": [],
   "source": [
    "from pyspark import SparkContext, SparkConf\n",
    "from pyspark.sql import SQLContext\n",
    "\n",
    "# Request 250 cores on L41 cluster\n",
    "conf = SparkConf().set(\"spark.cores.max\", 250)\n",
    "sc = SparkContext(conf=conf)\n",
    "\n",
    "#sc = SparkContext()\n",
    "sqlCtx = SQLContext(sc)"
   ]
  },
  {
   "cell_type": "code",
   "execution_count": 2,
   "metadata": {
    "collapsed": true
   },
   "outputs": [],
   "source": [
    "GZIP_CODEC = \"org.apache.hadoop.io.compress.GzipCodec\""
   ]
  },
  {
   "cell_type": "code",
   "execution_count": 3,
   "metadata": {
    "collapsed": true
   },
   "outputs": [],
   "source": [
    "import subprocess\n",
    "\n",
    "def list_hdfs_dir(directory):\n",
    "    result = subprocess.check_output(\"hadoop fs -ls %s | sed '1d;s/  */ /g' | cut -d\\  -f8\" % directory, shell=True)\n",
    "    result = [x for x in str(result).strip(\"b\").strip(\"'\").split(\"\\\\n\") if x]\n",
    "    return result\n",
    "\n",
    "#original_data_folder = \"hdfs://namenode/datasets/github/json/\"\n",
    "#original_data_paths = list_hdfs_dir(original_data_folder)"
   ]
  },
  {
   "cell_type": "code",
   "execution_count": 4,
   "metadata": {
    "collapsed": true
   },
   "outputs": [],
   "source": [
    "import json\n",
    "def convert_json(x):\n",
    "    return json.loads(x)\n",
    "\n",
    "def to_json_string(x):\n",
    "    return json.dumps(x)"
   ]
  },
  {
   "cell_type": "code",
   "execution_count": 5,
   "metadata": {
    "collapsed": true
   },
   "outputs": [],
   "source": [
    "def is_valid_syntax(x):\n",
    "    try:\n",
    "        # compile with throw syntax error on syntax errors\n",
    "        compile(x[\"content\"], \"script_string\", \"exec\")\n",
    "        return True\n",
    "    except:\n",
    "        return False\n",
    "    \n",
    "def is_invalid_syntax(x):\n",
    "    return not is_valid_syntax(x)"
   ]
  },
  {
   "cell_type": "code",
   "execution_count": 6,
   "metadata": {
    "collapsed": true
   },
   "outputs": [],
   "source": [
    "def is_not_utf8(x):\n",
    "    return len(x[\"content\"]) == len(x[\"content\"].encode())\n",
    "def is_utf8(x):\n",
    "    return not is_not_utf8(x)"
   ]
  },
  {
   "cell_type": "code",
   "execution_count": 7,
   "metadata": {
    "collapsed": true
   },
   "outputs": [],
   "source": [
    "original_data_path = \"hdfs://namenode/datasets/github/json/*\"\n",
    "#original_data_path = \"hdfs://namenode/datasets/github/json/contents000000000000.json.gz\"\n",
    "#original_data_path = \"hdfs://namenode/datasets/github/json/contents000000000003.json.gz\" #11676"
   ]
  },
  {
   "cell_type": "code",
   "execution_count": 8,
   "metadata": {
    "collapsed": true
   },
   "outputs": [],
   "source": [
    "j_rdd = sc.textFile(original_data_path)"
   ]
  },
  {
   "cell_type": "code",
   "execution_count": 9,
   "metadata": {
    "collapsed": false
   },
   "outputs": [],
   "source": [
    "j_rdd = j_rdd.repartition(5000)"
   ]
  },
  {
   "cell_type": "code",
   "execution_count": 10,
   "metadata": {
    "collapsed": true
   },
   "outputs": [],
   "source": [
    "j_rdd = j_rdd.map(convert_json)"
   ]
  },
  {
   "cell_type": "code",
   "execution_count": 11,
   "metadata": {
    "collapsed": false
   },
   "outputs": [],
   "source": [
    "j_rdd.saveAsTextFile(\"hdfs://namenode/datasets/github/uncompressed/00_json\")"
   ]
  },
  {
   "cell_type": "markdown",
   "metadata": {},
   "source": [
    "---"
   ]
  },
  {
   "cell_type": "code",
   "execution_count": 12,
   "metadata": {
    "collapsed": true
   },
   "outputs": [],
   "source": [
    "notutf8_rdd_success = j_rdd.filter(is_not_utf8)\n",
    "notutf8_rdd_error = j_rdd.filter(is_utf8)"
   ]
  },
  {
   "cell_type": "code",
   "execution_count": 13,
   "metadata": {
    "collapsed": false
   },
   "outputs": [],
   "source": [
    "notutf8_rdd_success.saveAsTextFile(\"hdfs://namenode/datasets/github/uncompressed/01_notutf8/success\")"
   ]
  },
  {
   "cell_type": "code",
   "execution_count": 14,
   "metadata": {
    "collapsed": false
   },
   "outputs": [],
   "source": [
    "notutf8_rdd_error.saveAsTextFile(\"hdfs://namenode/datasets/github/uncompressed/01_notutf8/error\")"
   ]
  },
  {
   "cell_type": "markdown",
   "metadata": {},
   "source": [
    "---"
   ]
  },
  {
   "cell_type": "code",
   "execution_count": 15,
   "metadata": {
    "collapsed": true
   },
   "outputs": [],
   "source": [
    "syntax_rdd_success = notutf8_rdd_success.filter(is_valid_syntax)\n",
    "syntax_rdd_error = notutf8_rdd_success.filter(is_invalid_syntax)"
   ]
  },
  {
   "cell_type": "code",
   "execution_count": 16,
   "metadata": {
    "collapsed": false
   },
   "outputs": [],
   "source": [
    "syntax_rdd_success.saveAsTextFile(\"hdfs://namenode/datasets/github/uncompressed/02_syntax/success\")"
   ]
  },
  {
   "cell_type": "code",
   "execution_count": 17,
   "metadata": {
    "collapsed": false
   },
   "outputs": [],
   "source": [
    "syntax_rdd_error.saveAsTextFile(\"hdfs://namenode/datasets/github/uncompressed/02_syntax/error\")"
   ]
  },
  {
   "cell_type": "code",
   "execution_count": 18,
   "metadata": {
    "collapsed": false
   },
   "outputs": [
    {
     "data": {
      "text/plain": [
       "4023537"
      ]
     },
     "execution_count": 18,
     "metadata": {},
     "output_type": "execute_result"
    }
   ],
   "source": [
    "syntax_rdd_success.count() # should be 4023537"
   ]
  },
  {
   "cell_type": "code",
   "execution_count": 19,
   "metadata": {
    "collapsed": false
   },
   "outputs": [
    {
     "data": {
      "text/plain": [
       "5267543"
      ]
     },
     "execution_count": 19,
     "metadata": {},
     "output_type": "execute_result"
    }
   ],
   "source": [
    "j_rdd.count() # should be 5267543"
   ]
  },
  {
   "cell_type": "markdown",
   "metadata": {},
   "source": [
    "---"
   ]
  },
  {
   "cell_type": "code",
   "execution_count": 51,
   "metadata": {
    "collapsed": true
   },
   "outputs": [],
   "source": [
    "from lib2to3.refactor import RefactoringTool, get_fixers_from_package"
   ]
  },
  {
   "cell_type": "code",
   "execution_count": 52,
   "metadata": {
    "collapsed": true
   },
   "outputs": [],
   "source": [
    "def convert_python3(x):\n",
    "    try:\n",
    "        fixers = get_fixers_from_package('lib2to3.fixes')\n",
    "        refactoring_tool = RefactoringTool(fixer_names=fixers)\n",
    "        node3 = refactoring_tool.refactor_string(x[\"content\"], 'script')\n",
    "        py3_str = str(node3)\n",
    "        x[\"content\"] = py3_str\n",
    "        return (True, x)\n",
    "    except:\n",
    "        return (False, x)"
   ]
  },
  {
   "cell_type": "code",
   "execution_count": 53,
   "metadata": {
    "collapsed": true
   },
   "outputs": [],
   "source": [
    "def is_success(x):\n",
    "    return x[0] # Key is True if success"
   ]
  },
  {
   "cell_type": "code",
   "execution_count": 54,
   "metadata": {
    "collapsed": true
   },
   "outputs": [],
   "source": [
    "py3_rdd = syntax_rdd_success.map(convert_python3)\n",
    "py3_rdd_success = py3_rdd.filter(is_success)\n",
    "py3_rdd_success = py3_rdd_success.map(lambda x: x[1])"
   ]
  },
  {
   "cell_type": "code",
   "execution_count": null,
   "metadata": {
    "collapsed": false,
    "scrolled": true
   },
   "outputs": [],
   "source": [
    "py3_rdd_success.map(dump_json).saveAsTextFile(\"hdfs://namenode/datasets/github/uncompressed/03_py3/success\")"
   ]
  },
  {
   "cell_type": "code",
   "execution_count": null,
   "metadata": {
    "collapsed": true
   },
   "outputs": [],
   "source": [
    "py3_rdd_error = py3_rdd.map(to_json_string).subtract(py3_rdd_success.map(to_json_string)).map(convert_json)"
   ]
  },
  {
   "cell_type": "code",
   "execution_count": null,
   "metadata": {
    "collapsed": true
   },
   "outputs": [],
   "source": [
    "py3_rdd_error.map(dump_json).saveAsTextFile(\"hdfs://namenode/datasets/github/uncompressed/03_py3/errors\")"
   ]
  },
  {
   "cell_type": "code",
   "execution_count": null,
   "metadata": {
    "collapsed": true
   },
   "outputs": [],
   "source": []
  }
 ],
 "metadata": {
  "anaconda-cloud": {},
  "kernelspec": {
   "display_name": "Python 3",
   "language": "python",
   "name": "python3"
  },
  "language_info": {
   "codemirror_mode": {
    "name": "ipython",
    "version": 3
   },
   "file_extension": ".py",
   "mimetype": "text/x-python",
   "name": "python",
   "nbconvert_exporter": "python",
   "pygments_lexer": "ipython3",
   "version": "3.5.2"
  }
 },
 "nbformat": 4,
 "nbformat_minor": 2
}
