{
 "cells": [
  {
   "cell_type": "code",
   "execution_count": 1,
   "metadata": {
    "collapsed": true
   },
   "outputs": [],
   "source": [
    "from pyspark import SparkContext, SparkConf\n",
    "from pyspark.sql import SQLContext\n",
    "\n",
    "# Request 250 cores on L41 cluster\n",
    "conf = SparkConf().set(\"spark.cores.max\", 250)\n",
    "sc = SparkContext(conf=conf)\n",
    "\n",
    "#sc = SparkContext()\n",
    "sqlCtx = SQLContext(sc)"
   ]
  },
  {
   "cell_type": "code",
   "execution_count": 2,
   "metadata": {
    "collapsed": true
   },
   "outputs": [],
   "source": [
    "GZIP_CODEC = \"org.apache.hadoop.io.compress.GzipCodec\""
   ]
  },
  {
   "cell_type": "code",
   "execution_count": 3,
   "metadata": {
    "collapsed": true
   },
   "outputs": [],
   "source": [
    "original_data_path = \"hdfs://namenode/datasets/github/json/*\"\n",
    "#original_data_path = \"hdfs://namenode/datasets/github/json/contents000000000000.json.gz\""
   ]
  },
  {
   "cell_type": "code",
   "execution_count": 4,
   "metadata": {
    "collapsed": false
   },
   "outputs": [],
   "source": [
    "j = sqlCtx.read.json(original_data_path)\n",
    "j_rdd = j.toJSON()"
   ]
  },
  {
   "cell_type": "code",
   "execution_count": 5,
   "metadata": {
    "collapsed": true
   },
   "outputs": [],
   "source": [
    "# temporarily downselect to 100 elems for testing\n",
    "#j_rdd = sc.parallelize(j_rdd.take(100))"
   ]
  },
  {
   "cell_type": "code",
   "execution_count": 6,
   "metadata": {
    "collapsed": true
   },
   "outputs": [],
   "source": [
    "def convert_json(line):\n",
    "    import json\n",
    "    j = json.loads(line)\n",
    "    return j"
   ]
  },
  {
   "cell_type": "code",
   "execution_count": 7,
   "metadata": {
    "collapsed": true
   },
   "outputs": [],
   "source": [
    "def convert_python3(j):\n",
    "    try:\n",
    "        from lib2to3.refactor import RefactoringTool, get_fixers_from_package\n",
    "        fixers = get_fixers_from_package('lib2to3.fixes')\n",
    "        refactoring_tool = RefactoringTool(fixer_names=fixers)\n",
    "        node3 = refactoring_tool.refactor_string(j[\"content\"], 'script')\n",
    "        py3_str = str(node3)\n",
    "        j[\"content\"] = py3_str\n",
    "        return (True, j)\n",
    "    except:\n",
    "        return (False, j)"
   ]
  },
  {
   "cell_type": "code",
   "execution_count": 8,
   "metadata": {
    "collapsed": true
   },
   "outputs": [],
   "source": [
    "py3_rdd = j_rdd.map(convert_json).map(convert_python3)"
   ]
  },
  {
   "cell_type": "code",
   "execution_count": 9,
   "metadata": {
    "collapsed": true
   },
   "outputs": [],
   "source": [
    "def is_success(x):\n",
    "    return x[0] # Key is True if success\n",
    "\n",
    "def is_error(x):\n",
    "    return not is_success(x)\n",
    "\n",
    "def dump_json(x):\n",
    "    import json\n",
    "    return json.dumps(x)"
   ]
  },
  {
   "cell_type": "code",
   "execution_count": 10,
   "metadata": {
    "collapsed": true
   },
   "outputs": [],
   "source": [
    "py3_rdd_success, py3_rdd_error = (py3_rdd.filter(f) for f in (is_success, is_error))\n",
    "py3_rdd_success = py3_rdd_success.map(lambda x: x[1])\n",
    "py3_rdd_error = py3_rdd_error.map(lambda x: x[1])"
   ]
  },
  {
   "cell_type": "code",
   "execution_count": null,
   "metadata": {
    "collapsed": false
   },
   "outputs": [],
   "source": [
    "py3_rdd_success.map(dump_json).saveAsTextFile(\"hdfs://namenode/datasets/github/01_py3/success\", compressionCodecClass=GZIP_CODEC)"
   ]
  },
  {
   "cell_type": "code",
   "execution_count": null,
   "metadata": {
    "collapsed": true
   },
   "outputs": [],
   "source": [
    "py3_rdd_error.map(dump_json).saveAsTextFile(\"hdfs://namenode/datasets/github/01_py3/errors\", compressionCodecClass=GZIP_CODEC)"
   ]
  },
  {
   "cell_type": "code",
   "execution_count": null,
   "metadata": {
    "collapsed": true
   },
   "outputs": [],
   "source": [
    "first = py3_rdd_success.first()"
   ]
  },
  {
   "cell_type": "code",
   "execution_count": null,
   "metadata": {
    "collapsed": true
   },
   "outputs": [],
   "source": []
  }
 ],
 "metadata": {
  "anaconda-cloud": {},
  "kernelspec": {
   "display_name": "Python 3",
   "language": "python",
   "name": "python3"
  },
  "language_info": {
   "codemirror_mode": {
    "name": "ipython",
    "version": 3
   },
   "file_extension": ".py",
   "mimetype": "text/x-python",
   "name": "python",
   "nbconvert_exporter": "python",
   "pygments_lexer": "ipython3",
   "version": "3.5.2"
  }
 },
 "nbformat": 4,
 "nbformat_minor": 2
}
