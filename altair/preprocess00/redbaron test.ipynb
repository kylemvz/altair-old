{
 "cells": [
  {
   "cell_type": "code",
   "execution_count": 1,
   "metadata": {
    "collapsed": true
   },
   "outputs": [],
   "source": [
    "from pyspark import SparkContext, SparkConf\n",
    "from pyspark.sql import SQLContext\n",
    "\n",
    "# Request 250 cores on L41 cluster\n",
    "#conf = SparkConf().set(\"spark.cores.max\", 50)\n",
    "#sc = SparkContext(conf=conf)\n",
    "\n",
    "sc = SparkContext()\n",
    "sqlCtx = SQLContext(sc)"
   ]
  },
  {
   "cell_type": "code",
   "execution_count": 2,
   "metadata": {
    "collapsed": true
   },
   "outputs": [],
   "source": [
    "original_data_path = \"hdfs://namenode/datasets/github/uncompressed/02_syntax/success/*\""
   ]
  },
  {
   "cell_type": "code",
   "execution_count": 3,
   "metadata": {
    "collapsed": false
   },
   "outputs": [],
   "source": [
    "j = sc.textFile(original_data_path)"
   ]
  },
  {
   "cell_type": "code",
   "execution_count": 24,
   "metadata": {
    "collapsed": true
   },
   "outputs": [],
   "source": [
    "import json"
   ]
  },
  {
   "cell_type": "code",
   "execution_count": 25,
   "metadata": {
    "collapsed": false
   },
   "outputs": [],
   "source": [
    "local_j = j.take(100)\n",
    "local_j = [ast.literal_eval(s) for s in local_j]"
   ]
  },
  {
   "cell_type": "code",
   "execution_count": 83,
   "metadata": {
    "collapsed": false
   },
   "outputs": [],
   "source": [
    "from redbaron import RedBaron\n",
    "import ast"
   ]
  },
  {
   "cell_type": "code",
   "execution_count": 84,
   "metadata": {
    "collapsed": false
   },
   "outputs": [],
   "source": [
    "#script_str = local_j[1][\"content\"]\n",
    "\n",
    "with open(\"sample.py\", \"r\") as f:\n",
    "    script_str = f.read()"
   ]
  },
  {
   "cell_type": "code",
   "execution_count": 85,
   "metadata": {
    "collapsed": false
   },
   "outputs": [
    {
     "data": {
      "text/plain": [
       "'# -*- coding: utf-8 -*-\\n\\n\"\"\"\\n***************************************************************************\\n    MultipleInputDialog.py\\n    ---------------------\\n    Date                 : August 2012\\n    Copyright            : (C) 2012 by Victor Olaya\\n    Email                : volayaf at gmail dot com\\n***************************************************************************\\n*                                                                         *\\n*   This program is free software; you can redistribute it and/or modify  *\\n*   it under the terms of the GNU General Public License as published by  *\\n*   the Free Software Foundation; either version 2 of the License, or     *\\n*   (at your option) any later version.                                   *\\n*                                                                         *\\n***************************************************************************\\n\"\"\"\\n\\n__author__ = \\'Victor Olaya\\'\\n__date__ = \\'August 2012\\'\\n__copyright__ = \\'(C) 2012, Victor Olaya\\'\\n\\n# This will get replaced with a git SHA1 when you do a git archive\\n\\n__revision__ = \\'$Format:%H$\\'\\n\\nfrom PyQt4.QtCore import *\\nfrom PyQt4.QtGui import *\\n\\nfrom processing.ui.ui_DlgMultipleSelection import Ui_DlgMultipleSelection\\n\\n\\nclass MultipleInputDialog(QDialog, Ui_DlgMultipleSelection):\\n    \\n    # This is a comment.\\n    def __init__(self, options, selectedoptions=None):\\n        QDialog.__init__(self)\\n        self.setupUi(self)\\n\\n        self.options = options\\n        self.selectedoptions = selectedoptions\\n\\n        # Additional buttons\\n        self.btnSelectAll = QPushButton(self.tr(\\'Select all\\'))\\n        self.buttonBox.addButton(self.btnSelectAll,\\n                                 QDialogButtonBox.ActionRole)\\n        self.btnClearSelection = QPushButton(self.tr(\\'Clear selection\\'))\\n        self.buttonBox.addButton(self.btnClearSelection,\\n                                 QDialogButtonBox.ActionRole)\\n        self.btnToggleSelection = QPushButton(self.tr(\\'Toggle selection\\'))\\n        self.buttonBox.addButton(self.btnToggleSelection,\\n                                 QDialogButtonBox.ActionRole)\\n\\n        self.btnSelectAll.clicked.connect(self.selectAll)\\n        self.btnClearSelection.clicked.connect(self.lstLayers.clearSelection)\\n        self.btnToggleSelection.clicked.connect(self.toggleSelection)\\n\\n        self.populateList()\\n\\n    def populateList(self):\\n        self.lstLayers.clear()\\n        self.lstLayers.addItems(self.options)\\n        selModel = self.lstLayers.selectionModel()\\n        self.lstLayers.blockSignals(True)\\n        for i in xrange(self.lstLayers.count()):\\n            item = self.lstLayers.item(i)\\n            if self.lstLayers.indexFromItem(item).row() in self.selectedoptions:\\n                selModel.select(self.lstLayers.indexFromItem(item),\\n                                QItemSelectionModel.Select)\\n        self.lstLayers.blockSignals(False)\\n\\n    def accept(self):\\n        self.selectedoptions = []\\n        for i in self.lstLayers.selectedItems():\\n            self.selectedoptions.append(self.lstLayers.indexFromItem(i).row())\\n        QDialog.accept(self)\\n\\n    def reject(self):\\n        self.selectedoptions = None\\n        QDialog.reject(self)\\n\\n    def selectAll(self):\\n        selModel = self.lstLayers.selectionModel()\\n        self.lstLayers.blockSignals(True)\\n        for i in xrange(self.lstLayers.count()):\\n            item = self.lstLayers.item(i)\\n            selModel.select(self.lstLayers.indexFromItem(item),\\n                            QItemSelectionModel.Select)\\n        self.lstLayers.blockSignals(False)\\n\\n    def toggleSelection(self):\\n        selModel = self.lstLayers.selectionModel()\\n        self.lstLayers.blockSignals(True)\\n        for i in xrange(self.lstLayers.count()):\\n            item = self.lstLayers.item(i)\\n            selModel.select(self.lstLayers.indexFromItem(item),\\n                            QItemSelectionModel.Toggle)\\n        self.lstLayers.blockSignals(False)\\n'"
      ]
     },
     "execution_count": 85,
     "metadata": {},
     "output_type": "execute_result"
    }
   ],
   "source": [
    "script_str"
   ]
  },
  {
   "cell_type": "code",
   "execution_count": 86,
   "metadata": {
    "collapsed": false
   },
   "outputs": [],
   "source": [
    "red = RedBaron(script_str)"
   ]
  },
  {
   "cell_type": "code",
   "execution_count": 108,
   "metadata": {
    "collapsed": false
   },
   "outputs": [
    {
     "data": {
      "text/html": [
       "<table><tr><th>Index</th><th>node</th></tr><tr><td>0</td><td><div class=\"highlight\" style=\"background: #f8f8f8\"><pre style=\"line-height: 125%\"><span></span>__author__ <span style=\"color: #666666\">=</span> <span style=\"color: #BA2121\">&#39;Victor Olaya&#39;</span>\n",
       "</pre></div>\n",
       "</td></tr><tr><td>1</td><td><div class=\"highlight\" style=\"background: #f8f8f8\"><pre style=\"line-height: 125%\"><span></span>__date__ <span style=\"color: #666666\">=</span> <span style=\"color: #BA2121\">&#39;August 2012&#39;</span>\n",
       "</pre></div>\n",
       "</td></tr><tr><td>2</td><td><div class=\"highlight\" style=\"background: #f8f8f8\"><pre style=\"line-height: 125%\"><span></span>__copyright__ <span style=\"color: #666666\">=</span> <span style=\"color: #BA2121\">&#39;(C) 2012, Victor Olaya&#39;</span>\n",
       "</pre></div>\n",
       "</td></tr><tr><td>3</td><td><div class=\"highlight\" style=\"background: #f8f8f8\"><pre style=\"line-height: 125%\"><span></span>__revision__ <span style=\"color: #666666\">=</span> <span style=\"color: #BA2121\">&#39;$Format:%H$&#39;</span>\n",
       "</pre></div>\n",
       "</td></tr><tr><td>4</td><td><div class=\"highlight\" style=\"background: #f8f8f8\"><pre style=\"line-height: 125%\"><span></span><span style=\"color: #008000\">self</span><span style=\"color: #666666\">.</span>options <span style=\"color: #666666\">=</span> options\n",
       "</pre></div>\n",
       "</td></tr><tr><td>5</td><td><div class=\"highlight\" style=\"background: #f8f8f8\"><pre style=\"line-height: 125%\"><span></span><span style=\"color: #008000\">self</span><span style=\"color: #666666\">.</span>selectedoptions <span style=\"color: #666666\">=</span> selectedoptions\n",
       "</pre></div>\n",
       "</td></tr><tr><td>6</td><td><div class=\"highlight\" style=\"background: #f8f8f8\"><pre style=\"line-height: 125%\"><span></span><span style=\"color: #008000\">self</span><span style=\"color: #666666\">.</span>btnSelectAll <span style=\"color: #666666\">=</span> QPushButton(<span style=\"color: #008000\">self</span><span style=\"color: #666666\">.</span>tr(<span style=\"color: #BA2121\">&#39;Select all&#39;</span>))\n",
       "</pre></div>\n",
       "</td></tr><tr><td>7</td><td><div class=\"highlight\" style=\"background: #f8f8f8\"><pre style=\"line-height: 125%\"><span></span><span style=\"color: #008000\">self</span><span style=\"color: #666666\">.</span>btnClearSelection <span style=\"color: #666666\">=</span> QPushButton(<span style=\"color: #008000\">self</span><span style=\"color: #666666\">.</span>tr(<span style=\"color: #BA2121\">&#39;Clear selection&#39;</span>))\n",
       "</pre></div>\n",
       "</td></tr><tr><td>8</td><td><div class=\"highlight\" style=\"background: #f8f8f8\"><pre style=\"line-height: 125%\"><span></span><span style=\"color: #008000\">self</span><span style=\"color: #666666\">.</span>btnToggleSelection <span style=\"color: #666666\">=</span> QPushButton(<span style=\"color: #008000\">self</span><span style=\"color: #666666\">.</span>tr(<span style=\"color: #BA2121\">&#39;Toggle selection&#39;</span>))\n",
       "</pre></div>\n",
       "</td></tr><tr><td>9</td><td><div class=\"highlight\" style=\"background: #f8f8f8\"><pre style=\"line-height: 125%\"><span></span>selModel <span style=\"color: #666666\">=</span> <span style=\"color: #008000\">self</span><span style=\"color: #666666\">.</span>lstLayers<span style=\"color: #666666\">.</span>selectionModel()\n",
       "</pre></div>\n",
       "</td></tr><tr><td>10</td><td><div class=\"highlight\" style=\"background: #f8f8f8\"><pre style=\"line-height: 125%\"><span></span>item <span style=\"color: #666666\">=</span> <span style=\"color: #008000\">self</span><span style=\"color: #666666\">.</span>lstLayers<span style=\"color: #666666\">.</span>item(i)\n",
       "</pre></div>\n",
       "</td></tr><tr><td>11</td><td><div class=\"highlight\" style=\"background: #f8f8f8\"><pre style=\"line-height: 125%\"><span></span><span style=\"color: #008000\">self</span><span style=\"color: #666666\">.</span>selectedoptions <span style=\"color: #666666\">=</span> []\n",
       "</pre></div>\n",
       "</td></tr><tr><td>12</td><td><div class=\"highlight\" style=\"background: #f8f8f8\"><pre style=\"line-height: 125%\"><span></span><span style=\"color: #008000\">self</span><span style=\"color: #666666\">.</span>selectedoptions <span style=\"color: #666666\">=</span> <span style=\"color: #008000\">None</span>\n",
       "</pre></div>\n",
       "</td></tr><tr><td>13</td><td><div class=\"highlight\" style=\"background: #f8f8f8\"><pre style=\"line-height: 125%\"><span></span>selModel <span style=\"color: #666666\">=</span> <span style=\"color: #008000\">self</span><span style=\"color: #666666\">.</span>lstLayers<span style=\"color: #666666\">.</span>selectionModel()\n",
       "</pre></div>\n",
       "</td></tr><tr><td>14</td><td><div class=\"highlight\" style=\"background: #f8f8f8\"><pre style=\"line-height: 125%\"><span></span>item <span style=\"color: #666666\">=</span> <span style=\"color: #008000\">self</span><span style=\"color: #666666\">.</span>lstLayers<span style=\"color: #666666\">.</span>item(i)\n",
       "</pre></div>\n",
       "</td></tr><tr><td>15</td><td><div class=\"highlight\" style=\"background: #f8f8f8\"><pre style=\"line-height: 125%\"><span></span>selModel <span style=\"color: #666666\">=</span> <span style=\"color: #008000\">self</span><span style=\"color: #666666\">.</span>lstLayers<span style=\"color: #666666\">.</span>selectionModel()\n",
       "</pre></div>\n",
       "</td></tr><tr><td>16</td><td><div class=\"highlight\" style=\"background: #f8f8f8\"><pre style=\"line-height: 125%\"><span></span>item <span style=\"color: #666666\">=</span> <span style=\"color: #008000\">self</span><span style=\"color: #666666\">.</span>lstLayers<span style=\"color: #666666\">.</span>item(i)\n",
       "</pre></div>\n",
       "</td></tr></table>"
      ],
      "text/plain": [
       "<NodeList [], \"__author__ = 'Vi...)\" 139756130206496, on NoneType 139756956603504>"
      ]
     },
     "execution_count": 108,
     "metadata": {},
     "output_type": "execute_result"
    }
   ],
   "source": [
    "red.findAll(\"AssignmentNode\")"
   ]
  },
  {
   "cell_type": "code",
   "execution_count": 104,
   "metadata": {
    "collapsed": false
   },
   "outputs": [
    {
     "data": {
      "text/html": [
       "<table><tr><th>Index</th><th>node</th></tr><tr><td>0</td><td><div class=\"highlight\" style=\"background: #f8f8f8\"><pre style=\"line-height: 125%\"><span></span><span style=\"color: #008000\">self</span>\n",
       "</pre></div>\n",
       "</td></tr><tr><td>1</td><td><div class=\"highlight\" style=\"background: #f8f8f8\"><pre style=\"line-height: 125%\"><span></span>options\n",
       "</pre></div>\n",
       "</td></tr><tr><td>2</td><td><div class=\"highlight\" style=\"background: #f8f8f8\"><pre style=\"line-height: 125%\"><span></span>selectedoptions<span style=\"color: #666666\">=</span><span style=\"color: #008000\">None</span>\n",
       "</pre></div>\n",
       "</td></tr></table>"
      ],
      "text/plain": [
       "<CommaProxyList [28, 'value', 4, 'arguments'], \"self, options, s...e\" 139756127738736, on DefNode 139756127736720>"
      ]
     },
     "execution_count": 104,
     "metadata": {},
     "output_type": "execute_result"
    }
   ],
   "source": [
    "red.find_all(\"DefNode\")[0].arguments"
   ]
  },
  {
   "cell_type": "code",
   "execution_count": null,
   "metadata": {
    "collapsed": true
   },
   "outputs": [],
   "source": []
  }
 ],
 "metadata": {
  "anaconda-cloud": {},
  "kernelspec": {
   "display_name": "Altair35",
   "language": "python",
   "name": "altair35"
  },
  "language_info": {
   "codemirror_mode": {
    "name": "ipython",
    "version": 3
   },
   "file_extension": ".py",
   "mimetype": "text/x-python",
   "name": "python",
   "nbconvert_exporter": "python",
   "pygments_lexer": "ipython3",
   "version": "3.5.2"
  }
 },
 "nbformat": 4,
 "nbformat_minor": 2
}
